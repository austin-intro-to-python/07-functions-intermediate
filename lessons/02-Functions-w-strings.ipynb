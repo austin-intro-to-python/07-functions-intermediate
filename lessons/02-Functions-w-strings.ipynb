{
 "cells": [
  {
   "cell_type": "markdown",
   "metadata": {},
   "source": [
    "# Lesson 2. Functions with Strings"
   ]
  },
  {
   "cell_type": "markdown",
   "metadata": {},
   "source": [
    "## Functions with String basics"
   ]
  },
  {
   "cell_type": "code",
   "execution_count": null,
   "metadata": {},
   "outputs": [],
   "source": [
    "# Given any three strings, return those strings concatenated all together \n",
    "# and assign that to a new variable.\n",
    "def myfunc(s1,s2,s3):\n"
   ]
  },
  {
   "cell_type": "code",
   "execution_count": null,
   "metadata": {},
   "outputs": [],
   "source": [
    "# Given any three strings, print those strings on 3 separate lines.\n",
    "def myfunc(s1,s2,s3):\n"
   ]
  },
  {
   "cell_type": "code",
   "execution_count": null,
   "metadata": {},
   "outputs": [],
   "source": [
    "# Given any two strings, print \"fizz\" if they do not have the same number of \n",
    "# letters and \"buzz\" otherwise.\n",
    "def myfunc(this,that):\n"
   ]
  },
  {
   "cell_type": "markdown",
   "metadata": {},
   "source": [
    "## Functions with string indexing"
   ]
  },
  {
   "cell_type": "code",
   "execution_count": null,
   "metadata": {},
   "outputs": [],
   "source": [
    "# Given any 3 strings, return the third, second, and first letters of each, respectively. \n",
    "# Assign this to a variable.\n",
    "def myfunc(a,b,c):\n"
   ]
  },
  {
   "cell_type": "code",
   "execution_count": null,
   "metadata": {},
   "outputs": [],
   "source": [
    "# Given any string, print its length. Then grab everything past the first letter. \n",
    "def myfunc(string):\n"
   ]
  },
  {
   "cell_type": "code",
   "execution_count": null,
   "metadata": {},
   "outputs": [],
   "source": [
    "# Given any string, grab everything up to the 3rd index. Assign this to a variable.\n",
    "def myfunc(string):\n"
   ]
  },
  {
   "cell_type": "code",
   "execution_count": null,
   "metadata": {},
   "outputs": [],
   "source": [
    "# Use negative indexing to grab all but the last letter of any string. Assign this to a variable.\n",
    "def myfunc(value):\n"
   ]
  },
  {
   "cell_type": "code",
   "execution_count": null,
   "metadata": {},
   "outputs": [],
   "source": [
    "# Grab everything, but go in step sizes of 2. Print, don't return.\n",
    "def myfunc(value):\n"
   ]
  },
  {
   "cell_type": "code",
   "execution_count": null,
   "metadata": {},
   "outputs": [],
   "source": [
    "# Print any string backwards. Do this in step sizes of 2. Assign this to a variable.\n",
    "def myfunc(s):\n"
   ]
  },
  {
   "cell_type": "code",
   "execution_count": null,
   "metadata": {},
   "outputs": [],
   "source": [
    "# Given any string, print it 100 times.\n",
    "def myfunc(s):\n"
   ]
  },
  {
   "cell_type": "code",
   "execution_count": null,
   "metadata": {},
   "outputs": [],
   "source": [
    "# Given any string, print it 100 times.\n",
    "def myfunc(s):\n"
   ]
  },
  {
   "cell_type": "markdown",
   "metadata": {},
   "source": [
    "## Functions with built-in string methods"
   ]
  },
  {
   "cell_type": "code",
   "execution_count": null,
   "metadata": {},
   "outputs": [],
   "source": [
    "'''\n",
    "Given any string, reverse it. Then:\n",
    "return three print statements where you convert it to upper case, lower case,\n",
    "then split the string on whatever is the 3rd letter of the original string.\n",
    "'''\n",
    "def myfunc(x):\n"
   ]
  },
  {
   "cell_type": "code",
   "execution_count": null,
   "metadata": {},
   "outputs": [],
   "source": [
    "# Given any sentence, split it into its individual words. \n",
    "# Assign this to a variable and print both the split variable and its Python type, \n",
    "# on separate lines.\n",
    "def myfunc(sentence):\n"
   ]
  },
  {
   "cell_type": "code",
   "execution_count": null,
   "metadata": {},
   "outputs": [],
   "source": [
    "# Insert any string and its length into the middle of a sentence.\n",
    "def myfunc(x):\n"
   ]
  },
  {
   "cell_type": "code",
   "execution_count": null,
   "metadata": {},
   "outputs": [],
   "source": [
    "# Insert any string and its length into the middle of a sentence.\n",
    "def myfunc(x):\n"
   ]
  },
  {
   "cell_type": "code",
   "execution_count": null,
   "metadata": {},
   "outputs": [],
   "source": [
    "## Given a name, a verb, and a food, put them together into a sentence.\n",
    "\n",
    "def myfunc(name,verb,food):\n"
   ]
  },
  {
   "cell_type": "code",
   "execution_count": null,
   "metadata": {},
   "outputs": [],
   "source": []
  }
 ],
 "metadata": {
  "kernelspec": {
   "display_name": "Python 3",
   "language": "python",
   "name": "python3"
  },
  "language_info": {
   "codemirror_mode": {
    "name": "ipython",
    "version": 3
   },
   "file_extension": ".py",
   "mimetype": "text/x-python",
   "name": "python",
   "nbconvert_exporter": "python",
   "pygments_lexer": "ipython3",
   "version": "3.7.3"
  }
 },
 "nbformat": 4,
 "nbformat_minor": 2
}
