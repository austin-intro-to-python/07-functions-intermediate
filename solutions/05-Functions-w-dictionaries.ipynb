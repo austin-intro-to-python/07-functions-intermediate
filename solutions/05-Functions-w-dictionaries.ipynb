{
 "cells": [
  {
   "cell_type": "markdown",
   "metadata": {},
   "source": [
    "# 5. Functions with Dictionaries"
   ]
  },
  {
   "cell_type": "markdown",
   "metadata": {},
   "source": [
    "## Functions for constructing a Dictionary"
   ]
  },
  {
   "cell_type": "code",
   "execution_count": 3,
   "metadata": {},
   "outputs": [
    {
     "data": {
      "text/plain": [
       "{'this': 'blue', 'that': 'green'}"
      ]
     },
     "execution_count": 3,
     "metadata": {},
     "output_type": "execute_result"
    }
   ],
   "source": [
    "# Write a functions that receives any four items and converts them into a dictionary with 2 keys and 2 values.\n",
    "\n",
    "def myfunc(a,b,c,d):\n",
    "    my_dict = {a:b, c:d}\n",
    "    return my_dict[a]\n",
    "\n",
    "myfunc('this','blue','that','green')"
   ]
  },
  {
   "cell_type": "code",
   "execution_count": 5,
   "metadata": {},
   "outputs": [
    {
     "data": {
      "text/plain": [
       "'blue'"
      ]
     },
     "execution_count": 5,
     "metadata": {},
     "output_type": "execute_result"
    }
   ],
   "source": [
    "# Write a function that receives 6 items, converts them into a dictionary of key-value pairs,\n",
    "# then calls the value of the first key.\n",
    "\n",
    "def myfunc(a,b,c,d,e,f):\n",
    "    my_dict = {a:b, c:d, e:f}\n",
    "    return my_dict[a]\n",
    "\n",
    "myfunc('this','blue','that','green','the other','red')"
   ]
  },
  {
   "cell_type": "code",
   "execution_count": 7,
   "metadata": {},
   "outputs": [
    {
     "data": {
      "text/plain": [
       "'RED'"
      ]
     },
     "execution_count": 7,
     "metadata": {},
     "output_type": "execute_result"
    }
   ],
   "source": [
    "# Write a function that receives 6 items, converts them into a dictionary with only two keys,\n",
    "# then calls the last value of the last key and prints it in upper case.\n",
    "\n",
    "def myfunc(a,b,c,d,e,f):\n",
    "    my_dict = {a:(b,c), d:(e,f)}\n",
    "    return my_dict[d][-1].upper()\n",
    "\n",
    "myfunc('this','blue','that','green','the other','red')"
   ]
  },
  {
   "cell_type": "code",
   "execution_count": 12,
   "metadata": {},
   "outputs": [
    {
     "name": "stdout",
     "output_type": "stream",
     "text": [
      "8 plus 3 minus 9 equals 2\n"
     ]
    }
   ],
   "source": [
    "# Write a function that receives 6 integers, converts them into a dictionary with 3 keys,\n",
    "# then calls the value of the 1st key, adds the value of the 2nd key, and subtracts the value of 3rd key.\n",
    "# It should print this equation as a sentence.\n",
    "\n",
    "def myfunc(a,b,c,d,e,f):\n",
    "    my_dict = {a:d, b:e, c:f}\n",
    "    solution = my_dict[a]+my_dict[b]-my_dict[c]\n",
    "    print(my_dict[a],\"plus\",my_dict[b],\"minus\",my_dict[c], 'equals', solution)\n",
    "\n",
    "myfunc(2,3,5,8,3,9)"
   ]
  },
  {
   "cell_type": "code",
   "execution_count": 15,
   "metadata": {},
   "outputs": [
    {
     "data": {
      "text/plain": [
       "{'blue': 13, 3: 'green', 'red': 9}"
      ]
     },
     "execution_count": 15,
     "metadata": {},
     "output_type": "execute_result"
    }
   ],
   "source": [
    "# Write a function that receives 3 strings and 3 numbers, converts them into a dictionary of key-value pairs,\n",
    "# then reassigns the value of the first key by adding 5 to it, and returns the entire dictionary.\n",
    "def myfunc(a,b,c,d,e,f):\n",
    "    my_dict = {a:d, b:e, c:f}\n",
    "    my_dict[a]+=5\n",
    "    return my_dict\n",
    "\n",
    "myfunc('blue',3,'red',8,'green',9)"
   ]
  },
  {
   "cell_type": "markdown",
   "metadata": {},
   "source": [
    "## Nested dictionary functions"
   ]
  },
  {
   "cell_type": "code",
   "execution_count": 17,
   "metadata": {},
   "outputs": [
    {
     "data": {
      "text/plain": [
       "'value'"
      ]
     },
     "execution_count": 17,
     "metadata": {},
     "output_type": "execute_result"
    }
   ],
   "source": [
    "# Assume you have the following nested dictionary. \n",
    "# Write a function that returns the most deeply nested value.\n",
    "d = {'key1':{'nestkey':{'subnestkey':'value'}}}\n",
    "\n",
    "def myfunc(any_dict):\n",
    "    return any_dict['key1']['nestkey']['subnestkey']\n",
    "\n",
    "myfunc(d)"
   ]
  },
  {
   "cell_type": "code",
   "execution_count": 37,
   "metadata": {},
   "outputs": [
    {
     "name": "stdout",
     "output_type": "stream",
     "text": [
      "3\n"
     ]
    },
    {
     "data": {
      "text/plain": [
       "dict_keys(['blue', 'red', 'green'])"
      ]
     },
     "execution_count": 37,
     "metadata": {},
     "output_type": "execute_result"
    }
   ],
   "source": [
    "# Write a function that takes in any dictionary and return its keys, and prints the number of keys.\n",
    "\n",
    "def myfunc(any_dict):\n",
    "    print (len(any_dict.keys()))\n",
    "    return any_dict.keys()\n",
    "    \n",
    "d={'blue':3,'red':8,'green':9}\n",
    "myfunc(d)"
   ]
  },
  {
   "cell_type": "code",
   "execution_count": 39,
   "metadata": {},
   "outputs": [
    {
     "data": {
      "text/plain": [
       "[3, 8, 9]"
      ]
     },
     "execution_count": 39,
     "metadata": {},
     "output_type": "execute_result"
    }
   ],
   "source": [
    "# Write a function that takes in any dictionary and returns its values as a list. Assign to a new variable.\n",
    "\n",
    "def myfunc(any_dict):\n",
    "    return list(any_dict.values())\n",
    "    \n",
    "d={'blue':3,'red':8,'green':9}\n",
    "newvar=myfunc(d)\n",
    "newvar"
   ]
  },
  {
   "cell_type": "code",
   "execution_count": null,
   "metadata": {},
   "outputs": [],
   "source": []
  }
 ],
 "metadata": {
  "kernelspec": {
   "display_name": "Python 3",
   "language": "python",
   "name": "python3"
  },
  "language_info": {
   "codemirror_mode": {
    "name": "ipython",
    "version": 3
   },
   "file_extension": ".py",
   "mimetype": "text/x-python",
   "name": "python",
   "nbconvert_exporter": "python",
   "pygments_lexer": "ipython3",
   "version": "3.6.6"
  }
 },
 "nbformat": 4,
 "nbformat_minor": 2
}
