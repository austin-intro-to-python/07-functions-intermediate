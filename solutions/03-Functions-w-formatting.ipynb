{
 "cells": [
  {
   "cell_type": "markdown",
   "metadata": {},
   "source": [
    "# 3. Functions with String Formatting"
   ]
  },
  {
   "cell_type": "markdown",
   "metadata": {},
   "source": [
    "## Formatting with Modulo"
   ]
  },
  {
   "cell_type": "code",
   "execution_count": 11,
   "metadata": {},
   "outputs": [
    {
     "name": "stdout",
     "output_type": "stream",
     "text": [
      "I'm going to inject something here.\n"
     ]
    }
   ],
   "source": [
    "# Insert any string into a sentence using modulo-s.\n",
    "\n",
    "def myfunc(string):\n",
    "    print(\"I'm going to inject %s here.\" % string)\n",
    "    \n",
    "myfunc('something')\n",
    "\n",
    "# This is pretty old. Nobody does it this way anymore."
   ]
  },
  {
   "cell_type": "markdown",
   "metadata": {},
   "source": [
    "## Formatting with the .format method"
   ]
  },
  {
   "cell_type": "code",
   "execution_count": 6,
   "metadata": {},
   "outputs": [
    {
     "name": "stdout",
     "output_type": "stream",
     "text": [
      "I'm going to inject something here.\n"
     ]
    }
   ],
   "source": [
    "# Insert any string into a sentence using the .format method\n",
    "\n",
    "def myfunc(string):\n",
    "    print(\"I'm going to inject {} here.\".format(string))\n",
    "    \n",
    "myfunc('something')"
   ]
  },
  {
   "cell_type": "code",
   "execution_count": 12,
   "metadata": {},
   "outputs": [
    {
     "name": "stdout",
     "output_type": "stream",
     "text": [
      "A something saved is a something earned.\n"
     ]
    }
   ],
   "source": [
    "# Write a function where inserted objects can be reused, avoiding duplication:\n",
    "def myfunc(x):\n",
    "    print('A {p} saved is a {p} earned.'.format(p=x))\n",
    "    \n",
    "myfunc('something')"
   ]
  },
  {
   "cell_type": "code",
   "execution_count": 30,
   "metadata": {},
   "outputs": [
    {
     "name": "stdout",
     "output_type": "stream",
     "text": [
      "this     | that     \n",
      "this     |      10.2\n",
      "       6 |       7.3\n"
     ]
    }
   ],
   "source": [
    "# Within the curly braces you can assign field lengths, left/right alignments, rounding parameters and more\n",
    "# Write a function that uses this technique.\n",
    "\n",
    "def myfunc(a,b):\n",
    "    return('{0:8} | {1:9}'.format(a,b))\n",
    "    \n",
    "print(myfunc('this', 'that'))\n",
    "print(myfunc('this', 10.2))\n",
    "print(myfunc(6, 7.3))"
   ]
  },
  {
   "cell_type": "code",
   "execution_count": 35,
   "metadata": {},
   "outputs": [
    {
     "name": "stdout",
     "output_type": "stream",
     "text": [
      "This is my ten-character, two-decimal number:     13.58\n"
     ]
    }
   ],
   "source": [
    "# Write a function that rounds any float to two decimal places.\n",
    "def myfunc(num):\n",
    "    return ('This is my ten-character, two-decimal number:{0:10.2f}'.format(num))\n",
    "\n",
    "print(myfunc(13.579))"
   ]
  },
  {
   "cell_type": "markdown",
   "metadata": {},
   "source": [
    "## Formatting with string literals (new to Python 3.6!)"
   ]
  },
  {
   "cell_type": "code",
   "execution_count": 9,
   "metadata": {},
   "outputs": [
    {
     "name": "stdout",
     "output_type": "stream",
     "text": [
      "I'm going to inject something here.\n"
     ]
    }
   ],
   "source": [
    "# Insert any string into a sentence using the formatted string literal method (new to Python 3.6)\n",
    "\n",
    "def myfunc(string):\n",
    "    print(f\"I'm going to inject {string} here.\")\n",
    "    \n",
    "myfunc('something')"
   ]
  },
  {
   "cell_type": "code",
   "execution_count": 10,
   "metadata": {},
   "outputs": [
    {
     "name": "stdout",
     "output_type": "stream",
     "text": [
      "I'm going to inject 'something' here.\n"
     ]
    }
   ],
   "source": [
    "# Do the same thing, but put it into quotes\n",
    "\n",
    "def myfunc(string):\n",
    "    print(f\"I'm going to inject {string!r} here.\")\n",
    "    \n",
    "myfunc('something')"
   ]
  },
  {
   "cell_type": "code",
   "execution_count": 39,
   "metadata": {},
   "outputs": [
    {
     "name": "stdout",
     "output_type": "stream",
     "text": [
      "My 10 character, four decimal number is:   23.4568\n"
     ]
    }
   ],
   "source": [
    "# Write a function to round floats. Float formatting follows \"result: {value:{width}.{precision}}\"\n",
    "# Where with the .format() method you might see {value:10.4f}, with f-strings this can become {value:{10}.{6}}\n",
    "\n",
    "def myfunc(num):\n",
    "    return(f\"My 10 character, four decimal number is:{num:{10}.{6}}\")\n",
    "\n",
    "print(myfunc(23.45678))\n",
    "\n",
    "# Note that with f-strings, precision refers to the total number of digits, not just those following the decimal.\n",
    "# This fits more closely with scientific notation and statistical analysis. "
   ]
  }
 ],
 "metadata": {
  "kernelspec": {
   "display_name": "Python 3",
   "language": "python",
   "name": "python3"
  },
  "language_info": {
   "codemirror_mode": {
    "name": "ipython",
    "version": 3
   },
   "file_extension": ".py",
   "mimetype": "text/x-python",
   "name": "python",
   "nbconvert_exporter": "python",
   "pygments_lexer": "ipython3",
   "version": "3.6.6"
  }
 },
 "nbformat": 4,
 "nbformat_minor": 2
}
