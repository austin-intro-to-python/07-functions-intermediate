{
 "cells": [
  {
   "cell_type": "markdown",
   "metadata": {},
   "source": [
    "# Lesson 2. Functions with Strings"
   ]
  },
  {
   "cell_type": "markdown",
   "metadata": {},
   "source": [
    "## Functions with String basics"
   ]
  },
  {
   "cell_type": "code",
   "execution_count": 3,
   "metadata": {},
   "outputs": [
    {
     "name": "stdout",
     "output_type": "stream",
     "text": [
      "thisthatthe other\n"
     ]
    }
   ],
   "source": [
    "# Given any three strings, return those strings concatenated all together and assign that to a new variable.\n",
    "def myfunc(string1,string2,string3):\n",
    "    return string1+string2+string3\n",
    "\n",
    "newvar=myfunc('this','that','the other')\n",
    "print(newvar)"
   ]
  },
  {
   "cell_type": "code",
   "execution_count": 6,
   "metadata": {},
   "outputs": [
    {
     "name": "stdout",
     "output_type": "stream",
     "text": [
      "\n",
      " this \n",
      " that \n",
      " the other\n"
     ]
    }
   ],
   "source": [
    "# Given any three strings, print those strings on 3 separate lines.\n",
    "def myfunc(string1,string2,string3):\n",
    "    print ('\\n',string1,'\\n',string2,'\\n',string3)\n",
    "\n",
    "myfunc('this','that','the other')"
   ]
  },
  {
   "cell_type": "code",
   "execution_count": 8,
   "metadata": {},
   "outputs": [
    {
     "name": "stdout",
     "output_type": "stream",
     "text": [
      "fizz\n"
     ]
    }
   ],
   "source": [
    "# Given any two strings, print \"fizz\" if they do not have the same number of letters and \"buzz\" otherwise.\n",
    "def myfunc(this,that):\n",
    "    if len(this)!=len(that):\n",
    "        print('fizz')\n",
    "    else:\n",
    "        print('buzz')\n",
    "        \n",
    "myfunc('pizza', 'hamburger')"
   ]
  },
  {
   "cell_type": "markdown",
   "metadata": {},
   "source": [
    "## Functions with string indexing"
   ]
  },
  {
   "cell_type": "code",
   "execution_count": 12,
   "metadata": {},
   "outputs": [
    {
     "data": {
      "text/plain": [
       "('n', 'e', 'W')"
      ]
     },
     "execution_count": 12,
     "metadata": {},
     "output_type": "execute_result"
    }
   ],
   "source": [
    "# Given any 3 strings, return the third, second, and first letters of each, respectively. Assign this to a variable.\n",
    "def myfunc(a,b,c):\n",
    "    return a[2], b[1], c[0]\n",
    "\n",
    "newvar=myfunc('Lincoln', 'Jefferson', 'Washington')\n",
    "newvar"
   ]
  },
  {
   "cell_type": "code",
   "execution_count": 14,
   "metadata": {},
   "outputs": [
    {
     "name": "stdout",
     "output_type": "stream",
     "text": [
      "11\n"
     ]
    },
    {
     "data": {
      "text/plain": [
       "'ello World'"
      ]
     },
     "execution_count": 14,
     "metadata": {},
     "output_type": "execute_result"
    }
   ],
   "source": [
    "# Given any string, print its length. Then grab everything past the first letter. \n",
    "def myfunc(string):\n",
    "    print(len(string))\n",
    "    return string[1:]\n",
    "\n",
    "myfunc('Hello World')"
   ]
  },
  {
   "cell_type": "code",
   "execution_count": 17,
   "metadata": {},
   "outputs": [
    {
     "data": {
      "text/plain": [
       "'eve'"
      ]
     },
     "execution_count": 17,
     "metadata": {},
     "output_type": "execute_result"
    }
   ],
   "source": [
    "# Given any string, grab everything up to the 3rd index. Assign this to a variable.\n",
    "def myfunc(string):\n",
    "    return string[:3]\n",
    "\n",
    "newvar=myfunc('everything')\n",
    "newvar"
   ]
  },
  {
   "cell_type": "code",
   "execution_count": 18,
   "metadata": {},
   "outputs": [
    {
     "data": {
      "text/plain": [
       "'everythin'"
      ]
     },
     "execution_count": 18,
     "metadata": {},
     "output_type": "execute_result"
    }
   ],
   "source": [
    "# Use negative indexing to grab all but the last letter of any string. Assign this to a variable.\n",
    "def myfunc(value):\n",
    "    return value[:-1]\n",
    "\n",
    "newvar=myfunc('everything')\n",
    "newvar"
   ]
  },
  {
   "cell_type": "code",
   "execution_count": 1,
   "metadata": {},
   "outputs": [
    {
     "name": "stdout",
     "output_type": "stream",
     "text": [
      "eeyhn\n"
     ]
    }
   ],
   "source": [
    "# Grab everything, but go in step sizes of 2. Print, don't return.\n",
    "def myfunc(value):\n",
    "    print (value[::2])\n",
    "\n",
    "myfunc('everything')"
   ]
  },
  {
   "cell_type": "code",
   "execution_count": 23,
   "metadata": {},
   "outputs": [
    {
     "data": {
      "text/plain": [
       "'gitrv'"
      ]
     },
     "execution_count": 23,
     "metadata": {},
     "output_type": "execute_result"
    }
   ],
   "source": [
    "# Print any string backwards. Do this in step sizes of 2. Assign this to a variable.\n",
    "def myfunc(value):\n",
    "    return value[::-2]\n",
    "\n",
    "newvar=myfunc('everything')\n",
    "newvar"
   ]
  },
  {
   "cell_type": "code",
   "execution_count": 26,
   "metadata": {},
   "outputs": [
    {
     "name": "stdout",
     "output_type": "stream",
     "text": [
      "zzzzzzzzzzzzzzzzzzzzzzzzzzzzzzzzzzzzzzzzzzzzzzzzzzzzzzzzzzzzzzzzzzzzzzzzzzzzzzzzzzzzzzzzzzzzzzzzzzzz\n"
     ]
    }
   ],
   "source": [
    "# Given any string, print it 100 times.\n",
    "def myfunc(value):\n",
    "    print (value*100)\n",
    "    \n",
    "myfunc('z')"
   ]
  },
  {
   "cell_type": "markdown",
   "metadata": {},
   "source": [
    "## Functions with built-in string methods"
   ]
  },
  {
   "cell_type": "code",
   "execution_count": 32,
   "metadata": {},
   "outputs": [
    {
     "name": "stdout",
     "output_type": "stream",
     "text": [
      "NOTGNIHSAW EGROEG\n",
      "notgnihsaw egroeg\n",
      "['n', 'tgnihsaW egr', 'eG']\n"
     ]
    }
   ],
   "source": [
    "'''\n",
    "Given any string, reverse it. Then:\n",
    "return three print statements where you convert it to upper case, lower case,\n",
    "then split the string on whatever is the 3rd letter of the original string.\n",
    "'''\n",
    "\n",
    "def myfunc(x):\n",
    "    s=x[::-1]\n",
    "    print(s.upper())\n",
    "    print(s.lower())\n",
    "    print(s.split(x[2]))\n",
    "    \n",
    "myfunc('George Washington')"
   ]
  },
  {
   "cell_type": "code",
   "execution_count": 40,
   "metadata": {},
   "outputs": [
    {
     "name": "stdout",
     "output_type": "stream",
     "text": [
      "['The', 'quick', 'brown', 'fox', 'jumps', 'over', 'the', 'lazy', 'dog'] \n",
      " <class 'list'>\n"
     ]
    }
   ],
   "source": [
    "# Given any sentence, split it into its individual words. \n",
    "# Assign this to a variable and print both the split variable and its Python type, on separate lines.\n",
    "def myfunc(sentence):\n",
    "    x=sentence.split()\n",
    "    print(x, '\\n', type(x))\n",
    "    \n",
    "myfunc('The quick brown fox jumps over the lazy dog')"
   ]
  },
  {
   "cell_type": "code",
   "execution_count": 47,
   "metadata": {},
   "outputs": [
    {
     "name": "stdout",
     "output_type": "stream",
     "text": [
      "The word banana is 6 letters long.\n"
     ]
    }
   ],
   "source": [
    "# Insert any string and its length into the middle of a sentence.\n",
    "def myfunc(x):\n",
    "    print('The word {} is {} letters long.'.format(x,len(x)))\n",
    "    \n",
    "myfunc('banana')"
   ]
  },
  {
   "cell_type": "code",
   "execution_count": 43,
   "metadata": {},
   "outputs": [
    {
     "name": "stdout",
     "output_type": "stream",
     "text": [
      "My friend Angela likes to smell lots of pizza!\n"
     ]
    }
   ],
   "source": [
    "## Given a name, a verb, and a food, put them together into a sentence.\n",
    "def myfunc(name,verb,food):\n",
    "    print ('My friend {} likes to {} lots of {}!'.format(name,verb,food))\n",
    "    \n",
    "myfunc('Angela', 'smell', 'pizza')"
   ]
  }
 ],
 "metadata": {
  "kernelspec": {
   "display_name": "Python 3",
   "language": "python",
   "name": "python3"
  },
  "language_info": {
   "codemirror_mode": {
    "name": "ipython",
    "version": 3
   },
   "file_extension": ".py",
   "mimetype": "text/x-python",
   "name": "python",
   "nbconvert_exporter": "python",
   "pygments_lexer": "ipython3",
   "version": "3.6.6"
  }
 },
 "nbformat": 4,
 "nbformat_minor": 2
}
