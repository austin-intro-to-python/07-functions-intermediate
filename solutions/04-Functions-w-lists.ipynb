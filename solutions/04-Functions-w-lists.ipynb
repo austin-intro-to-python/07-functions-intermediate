{
 "cells": [
  {
   "cell_type": "markdown",
   "metadata": {},
   "source": [
    "# 4. Functions with Lists"
   ]
  },
  {
   "cell_type": "code",
   "execution_count": 5,
   "metadata": {},
   "outputs": [
    {
     "name": "stdout",
     "output_type": "stream",
     "text": [
      "The new list is ['this', 'that', 42]. \n",
      " It has 3 elements\n"
     ]
    }
   ],
   "source": [
    "# Write a function that takes any 3 items and prints 2 sentences with the items in a list, and the list's length.\n",
    "# Put each on a separate line.\n",
    "\n",
    "def myfunc(a,b,c):\n",
    "    mylist=[a,b,c]\n",
    "    print(f\"The new list is {mylist}.\", '\\n', f'It has {len(mylist)} elements')\n",
    "\n",
    "myfunc('this','that',42)"
   ]
  },
  {
   "cell_type": "code",
   "execution_count": 7,
   "metadata": {},
   "outputs": [
    {
     "data": {
      "text/plain": [
       "'this'"
      ]
     },
     "execution_count": 7,
     "metadata": {},
     "output_type": "execute_result"
    }
   ],
   "source": [
    "# Write a function that returns the first value of a list. Set this equal to a new variable.\n",
    "def myfunc(mylist):\n",
    "    return mylist[0]\n",
    "\n",
    "newvar=myfunc(['this','that',42])\n",
    "newvar"
   ]
  },
  {
   "cell_type": "code",
   "execution_count": 8,
   "metadata": {},
   "outputs": [
    {
     "data": {
      "text/plain": [
       "['that', 42, 'one', 8.2, True]"
      ]
     },
     "execution_count": 8,
     "metadata": {},
     "output_type": "execute_result"
    }
   ],
   "source": [
    "# Write a function that returns index one and everything past it. Set this equal to a new variable.\n",
    "def myfunc(mylist):\n",
    "    return mylist[1:]\n",
    "\n",
    "newvar=myfunc(['this','that',42, 'one', 8.2, True])\n",
    "newvar"
   ]
  },
  {
   "cell_type": "code",
   "execution_count": 12,
   "metadata": {},
   "outputs": [
    {
     "data": {
      "text/plain": [
       "['this', 'that', 42, 'one', 8.2, True, 'George Washington', 'Abraham Lincoln']"
      ]
     },
     "execution_count": 12,
     "metadata": {},
     "output_type": "execute_result"
    }
   ],
   "source": [
    "# Write a function to use + to concatenate lists, just like we did for strings.\n",
    "# It should receives two lists, and join them into a single list. Define a new variable with this function.\n",
    "\n",
    "def myfunc(mylist1, mylist2):\n",
    "    return mylist1+mylist2\n",
    "\n",
    "newvar=myfunc(['this','that',42, 'one', 8.2, True], ['George Washington', 'Abraham Lincoln'])\n",
    "newvar"
   ]
  },
  {
   "cell_type": "code",
   "execution_count": 13,
   "metadata": {},
   "outputs": [
    {
     "data": {
      "text/plain": [
       "['this', 'that', 42, 'one', 8.2, True, 'this', 'that', 42, 'one', 8.2, True]"
      ]
     },
     "execution_count": 13,
     "metadata": {},
     "output_type": "execute_result"
    }
   ],
   "source": [
    "# Write a function that doubles a list.\n",
    "\n",
    "def myfunc(mylist):\n",
    "    return mylist*2\n",
    "\n",
    "newvar=myfunc(['this','that',42, 'one', 8.2, True])\n",
    "newvar"
   ]
  },
  {
   "cell_type": "markdown",
   "metadata": {},
   "source": [
    "## Basic list methods"
   ]
  },
  {
   "cell_type": "code",
   "execution_count": 19,
   "metadata": {},
   "outputs": [
    {
     "data": {
      "text/plain": [
       "['this', 'that', 42, 'one', 8.2, True, 'George Washington']"
      ]
     },
     "execution_count": 19,
     "metadata": {},
     "output_type": "execute_result"
    }
   ],
   "source": [
    "# Write a function that takes any list and any item, and appends the item to the list.\n",
    "def myfunc(mylist, item):\n",
    "    mylist.append(item)\n",
    "    return mylist\n",
    "\n",
    "newvar=myfunc(['this','that',42, 'one', 8.2, True], 'George Washington')\n",
    "newvar"
   ]
  },
  {
   "cell_type": "code",
   "execution_count": 21,
   "metadata": {},
   "outputs": [
    {
     "name": "stdout",
     "output_type": "stream",
     "text": [
      "one\n"
     ]
    },
    {
     "data": {
      "text/plain": [
       "['this', 'that', 42, 8.2, True]"
      ]
     },
     "execution_count": 21,
     "metadata": {},
     "output_type": "execute_result"
    }
   ],
   "source": [
    "# Write a function that receives a list and an index number, and uses pop to remove the item at that index.\n",
    "# The function should also print the popped item.\n",
    "def myfunc(mylist, num):\n",
    "    print(mylist.pop(num))\n",
    "    return mylist\n",
    "\n",
    "newvar=myfunc(['this','that',42, 'one', 8.2, True], 3)\n",
    "newvar"
   ]
  },
  {
   "cell_type": "code",
   "execution_count": 23,
   "metadata": {},
   "outputs": [
    {
     "name": "stdout",
     "output_type": "stream",
     "text": [
      "pick a new number\n"
     ]
    }
   ],
   "source": [
    "# Rewrite this same function, but with error handling in case the list is shorter than the given index.\n",
    "def myfunc(mylist, num):\n",
    "    if num < len(mylist):\n",
    "        print(mylist.pop(num))\n",
    "        return mylist\n",
    "    else:\n",
    "        print('pick a new number')\n",
    "\n",
    "newvar=myfunc(['this','that',42, 'one', 8.2, True], 13)\n",
    "newvar"
   ]
  },
  {
   "cell_type": "code",
   "execution_count": 25,
   "metadata": {},
   "outputs": [
    {
     "name": "stdout",
     "output_type": "stream",
     "text": [
      "give me a list and a number please\n"
     ]
    }
   ],
   "source": [
    "# Now rewrite this same function again, but with error handling in case the supplied items aren't the right types.\n",
    "def myfunc(mylist, num):\n",
    "    if type(mylist)==list and type(num)==int:\n",
    "        if num < len(mylist):\n",
    "            print(mylist.pop(num))\n",
    "            return mylist\n",
    "        else:\n",
    "            print('pick a new number')\n",
    "    else:\n",
    "        print('give me a list and a number please')\n",
    "\n",
    "newvar=myfunc(['this','that',42, 'one', 8.2, True], 'thirteen')\n",
    "newvar"
   ]
  },
  {
   "cell_type": "code",
   "execution_count": 32,
   "metadata": {},
   "outputs": [
    {
     "name": "stdout",
     "output_type": "stream",
     "text": [
      "[9, 8, 7, 6, 5, 4, 3, 2, 1] \n",
      " 6\n"
     ]
    }
   ],
   "source": [
    "# Write a function that reverses the order of a list, grabs the 3rd index in the reversed list, and prints both.\n",
    "def myfunc(mylist):\n",
    "    mylist.reverse()\n",
    "    print(mylist, '\\n', mylist[3])\n",
    "\n",
    "myfunc([1,2,3,4,5,6,7,8,9])"
   ]
  },
  {
   "cell_type": "code",
   "execution_count": 37,
   "metadata": {},
   "outputs": [
    {
     "name": "stdout",
     "output_type": "stream",
     "text": [
      "['a', 'b', 'c', 'e', 'x'] \n",
      " ['e', 'x']\n"
     ]
    }
   ],
   "source": [
    "# Use sort to sort the list (in this case alphabetical order, but for numbers it will go ascending)\n",
    "# Print the sorted list, and the last 2 items of the sorted list.\n",
    "def myfunc(mylist):\n",
    "    mylist.sort()\n",
    "    print(mylist, '\\n', mylist[-2:])\n",
    "\n",
    "myfunc(['c', 'b', 'x', 'e', 'a'])"
   ]
  },
  {
   "cell_type": "code",
   "execution_count": 41,
   "metadata": {},
   "outputs": [
    {
     "data": {
      "text/plain": [
       "3"
      ]
     },
     "execution_count": 41,
     "metadata": {},
     "output_type": "execute_result"
    }
   ],
   "source": [
    "# Write a function that receives 3 lists, and grabs the last element of the first list.\n",
    "def myfunc(l1,l2,l3):\n",
    "    matrix = [lst_1,lst_2,lst_3]\n",
    "    return(matrix[0][-1])\n",
    "\n",
    "lst_1=[1,2,3]\n",
    "lst_2=[4,5,6]\n",
    "lst_3=[7,8,9]\n",
    "myfunc(lst_1,lst_2,lst_3)"
   ]
  },
  {
   "cell_type": "code",
   "execution_count": 46,
   "metadata": {},
   "outputs": [
    {
     "data": {
      "text/plain": [
       "[1, 4, 7]"
      ]
     },
     "execution_count": 46,
     "metadata": {},
     "output_type": "execute_result"
    }
   ],
   "source": [
    "# Write a function that receives 3 lists, and appends the first element of each into a new list.\n",
    "def myfunc(l1,l2,l3):\n",
    "    matrix = [lst_1,lst_2,lst_3]\n",
    "    first_col=[]\n",
    "    for item in range(0,3):\n",
    "        first_col.append(matrix[item][0])\n",
    "    return first_col\n",
    "\n",
    "lst_1=[1,2,3]\n",
    "lst_2=[4,5,6]\n",
    "lst_3=[7,8,9]\n",
    "myfunc(lst_1,lst_2,lst_3)"
   ]
  },
  {
   "cell_type": "code",
   "execution_count": 47,
   "metadata": {},
   "outputs": [
    {
     "name": "stdout",
     "output_type": "stream",
     "text": [
      "[1, 4, 7]\n"
     ]
    }
   ],
   "source": [
    "# Rewrite this function using list comprehension.\n",
    "def myfunc(l1,l2,l3):\n",
    "    matrix = [lst_1,lst_2,lst_3]\n",
    "    first_col = [row[0] for row in matrix]\n",
    "    print(first_col)\n",
    "\n",
    "lst_1=[1,2,3]\n",
    "lst_2=[4,5,6]\n",
    "lst_3=[7,8,9]\n",
    "myfunc(lst_1,lst_2,lst_3)"
   ]
  },
  {
   "cell_type": "code",
   "execution_count": null,
   "metadata": {},
   "outputs": [],
   "source": []
  }
 ],
 "metadata": {
  "kernelspec": {
   "display_name": "Python 3",
   "language": "python",
   "name": "python3"
  },
  "language_info": {
   "codemirror_mode": {
    "name": "ipython",
    "version": 3
   },
   "file_extension": ".py",
   "mimetype": "text/x-python",
   "name": "python",
   "nbconvert_exporter": "python",
   "pygments_lexer": "ipython3",
   "version": "3.6.6"
  }
 },
 "nbformat": 4,
 "nbformat_minor": 2
}
