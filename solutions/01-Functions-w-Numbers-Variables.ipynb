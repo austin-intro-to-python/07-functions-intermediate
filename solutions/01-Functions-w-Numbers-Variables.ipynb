{
 "cells": [
  {
   "cell_type": "markdown",
   "metadata": {},
   "source": [
    "# 1. Functions with Numbers and Variable Assignments"
   ]
  },
  {
   "cell_type": "markdown",
   "metadata": {},
   "source": [
    "This lesson corresponds to Unit 1 Lesson 1 (Numbers) and Lesson 2 (Variable Assignment)"
   ]
  },
  {
   "cell_type": "markdown",
   "metadata": {},
   "source": [
    "## Functions with Basic Arithmetic"
   ]
  },
  {
   "cell_type": "code",
   "execution_count": 3,
   "metadata": {},
   "outputs": [
    {
     "data": {
      "text/plain": [
       "5"
      ]
     },
     "execution_count": 3,
     "metadata": {},
     "output_type": "execute_result"
    }
   ],
   "source": [
    "# Given any two numbers, add them together.\n",
    "def myfunc(n1,n2):\n",
    "    return n1+n2\n",
    "\n",
    "myfunc(2,3)"
   ]
  },
  {
   "cell_type": "code",
   "execution_count": 6,
   "metadata": {},
   "outputs": [
    {
     "data": {
      "text/plain": [
       "3"
      ]
     },
     "execution_count": 6,
     "metadata": {},
     "output_type": "execute_result"
    }
   ],
   "source": [
    "# Given any two numbers, subtract then.\n",
    "def myfunc(n1,n2):\n",
    "    return n1-n2\n",
    "\n",
    "myfunc(7,4)"
   ]
  },
  {
   "cell_type": "code",
   "execution_count": 8,
   "metadata": {},
   "outputs": [
    {
     "data": {
      "text/plain": [
       "5"
      ]
     },
     "execution_count": 8,
     "metadata": {},
     "output_type": "execute_result"
    }
   ],
   "source": [
    "# Given any two numbers, use \"floor division\" to divide them without a remainder.\n",
    "def myfunc(n1,n2):\n",
    "    return n1//n2\n",
    "\n",
    "myfunc(16,3)"
   ]
  },
  {
   "cell_type": "code",
   "execution_count": 17,
   "metadata": {},
   "outputs": [
    {
     "name": "stdout",
     "output_type": "stream",
     "text": [
      "2.5\n",
      "1\n"
     ]
    }
   ],
   "source": [
    "# Given any two numbers, print the quotient and then determine the remainder after dividing them.\n",
    "def myfunc(n1,n2):\n",
    "    print(n1/n2)\n",
    "    print(n1%n2)\n",
    "\n",
    "myfunc(5,2)"
   ]
  },
  {
   "cell_type": "code",
   "execution_count": 20,
   "metadata": {},
   "outputs": [
    {
     "data": {
      "text/plain": [
       "11.180339887498949"
      ]
     },
     "execution_count": 20,
     "metadata": {},
     "output_type": "execute_result"
    }
   ],
   "source": [
    "# Given any number, return the square root of that number cubed.\n",
    "def myfunc(n1):\n",
    "    return (n1**3)**0.5\n",
    "\n",
    "myfunc(5)"
   ]
  },
  {
   "cell_type": "code",
   "execution_count": 23,
   "metadata": {},
   "outputs": [
    {
     "data": {
      "text/plain": [
       "-54"
      ]
     },
     "execution_count": 23,
     "metadata": {},
     "output_type": "execute_result"
    }
   ],
   "source": [
    "# Given any four numbers, add the first two and multiply that by the difference of the last two.\n",
    "def myfunc(n1, n2, n3, n4):\n",
    "    return (n1+n2)*(n3-n4)\n",
    "\n",
    "myfunc(5, 4, -8, -2)"
   ]
  },
  {
   "cell_type": "markdown",
   "metadata": {},
   "source": [
    "## Functions and Variable Assignment"
   ]
  },
  {
   "cell_type": "code",
   "execution_count": 25,
   "metadata": {},
   "outputs": [
    {
     "data": {
      "text/plain": [
       "17000.0"
      ]
     },
     "execution_count": 25,
     "metadata": {},
     "output_type": "execute_result"
    }
   ],
   "source": [
    "# Given an income and a tax rate, return the amount of taxes owed and assign that to a new variable.\n",
    "def myfunc(myincome, tax_rate):\n",
    "    return myincome*tax_rate\n",
    "\n",
    "mytaxes=myfunc(100000, 0.17)\n",
    "print(mytaxes)"
   ]
  },
  {
   "cell_type": "code",
   "execution_count": 26,
   "metadata": {},
   "outputs": [
    {
     "name": "stdout",
     "output_type": "stream",
     "text": [
      "['Fido', 'Rover']\n"
     ]
    }
   ],
   "source": [
    "# Given any two dog names, create a new variable that includes both names as a list.\n",
    "def myfunc(name1,name2):\n",
    "    return [name1,name2]\n",
    "\n",
    "mydogs=myfunc('Fido', 'Rover')\n",
    "print(mydogs)"
   ]
  },
  {
   "cell_type": "markdown",
   "metadata": {},
   "source": [
    "## Functions that use Python's built-in `type` function."
   ]
  },
  {
   "cell_type": "code",
   "execution_count": 37,
   "metadata": {},
   "outputs": [
    {
     "name": "stdout",
     "output_type": "stream",
     "text": [
      "<class 'float'>\n"
     ]
    }
   ],
   "source": [
    "# Given any input, determine what its type is and print that.\n",
    "def myfunc(input_value):\n",
    "    print (type(input_value))\n",
    "\n",
    "myfunc(8.7)"
   ]
  },
  {
   "cell_type": "code",
   "execution_count": 38,
   "metadata": {},
   "outputs": [
    {
     "name": "stdout",
     "output_type": "stream",
     "text": [
      "The input 8 is a Python object of type <class 'int'>\n",
      "The input dog is a Python object of type <class 'str'>\n",
      "The input 8.7 is a Python object of type <class 'float'>\n",
      "The input [1, 2, 3] is a Python object of type <class 'list'>\n"
     ]
    }
   ],
   "source": [
    "# Given any input, print a sentence that restates the input and describes what its Python type is.\n",
    "def myfunc(input_value):\n",
    "    return 'The input {} is a Python object of type {}'.format(input_value, type(input_value))\n",
    "\n",
    "print(myfunc(8))\n",
    "print(myfunc('dog'))\n",
    "print(myfunc(8.7))\n",
    "print(myfunc([1,2,3]))"
   ]
  },
  {
   "cell_type": "code",
   "execution_count": 40,
   "metadata": {},
   "outputs": [
    {
     "name": "stdout",
     "output_type": "stream",
     "text": [
      "buzz\n"
     ]
    }
   ],
   "source": [
    "# Given any two inputs, print \"fizz\" if they have the same type or \"buzz\" if they don't.\n",
    "\n",
    "def myfunc(a,b):\n",
    "    if type(a)==type(b):\n",
    "        print('fizz')\n",
    "    else:\n",
    "        print('buzz')\n",
    "\n",
    "myfunc(8.4,'dog')"
   ]
  }
 ],
 "metadata": {
  "kernelspec": {
   "display_name": "Python 3",
   "language": "python",
   "name": "python3"
  },
  "language_info": {
   "codemirror_mode": {
    "name": "ipython",
    "version": 3
   },
   "file_extension": ".py",
   "mimetype": "text/x-python",
   "name": "python",
   "nbconvert_exporter": "python",
   "pygments_lexer": "ipython3",
   "version": "3.6.6"
  }
 },
 "nbformat": 4,
 "nbformat_minor": 2
}
