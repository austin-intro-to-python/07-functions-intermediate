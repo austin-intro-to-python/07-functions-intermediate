{
 "cells": [
  {
   "cell_type": "markdown",
   "metadata": {},
   "source": [
    "# 6. Functions with Tuples"
   ]
  },
  {
   "cell_type": "code",
   "execution_count": 2,
   "metadata": {},
   "outputs": [
    {
     "name": "stdout",
     "output_type": "stream",
     "text": [
      "('this', 10, 'that', 20) length: 4\n"
     ]
    }
   ],
   "source": [
    "# Write a function that receives four items and generates a tuple. Print the tuple and its length.\n",
    "\n",
    "def myfunc(a,b,c,d):\n",
    "    new_tuple=(a,b,c,d)\n",
    "    print(new_tuple, 'length:', len(new_tuple))\n",
    "    \n",
    "myfunc('this',10,'that',20)"
   ]
  },
  {
   "cell_type": "code",
   "execution_count": 4,
   "metadata": {},
   "outputs": [
    {
     "name": "stdout",
     "output_type": "stream",
     "text": [
      "<class 'tuple'>\n",
      "('this', 10, 'that', 20, 'the other', 30)\n",
      "this 30\n"
     ]
    }
   ],
   "source": [
    "# Write a function that receives six items and generates a tuple. Print the tuple, its Python type, \n",
    "# and the first and last items.\n",
    "\n",
    "def myfunc(a,b,c,d,e,f):\n",
    "    new_tuple=(a,b,c,d,e,f)\n",
    "    print(type(new_tuple))\n",
    "    print(new_tuple)\n",
    "    print(new_tuple[0],new_tuple[-1])\n",
    "    \n",
    "myfunc('this',10,'that',20,'the other',30)"
   ]
  },
  {
   "cell_type": "code",
   "execution_count": 12,
   "metadata": {},
   "outputs": [
    {
     "name": "stdout",
     "output_type": "stream",
     "text": [
      "I always prefer to eat chicken\n"
     ]
    }
   ],
   "source": [
    "# Write a function that will receive a tuple and an index number, and return a sentence using the indexed tuple value.\n",
    "\n",
    "def myfunc(t,n):\n",
    "    print(f'I always prefer to eat {t[n]}')\n",
    "    \n",
    "foods=('pizza','cheeseburgers','fries','chicken','potatoes')\n",
    "myfunc(foods,3)"
   ]
  },
  {
   "cell_type": "code",
   "execution_count": 16,
   "metadata": {},
   "outputs": [
    {
     "name": "stdout",
     "output_type": "stream",
     "text": [
      "1 4 5\n"
     ]
    }
   ],
   "source": [
    "# Write a tuple that includes the word 'fries' multiple times. Then write function that receives your tuple, \n",
    "# and adds together the index number of the first 'fries' and the total number of appearances of 'fries'.\n",
    "# Use variable assignment in your function.\n",
    "\n",
    "def myfunc(t):\n",
    "    val1=t.index('fries')\n",
    "    val2=t.count('fries')\n",
    "    print (val1,val2,val1+val2)\n",
    "    \n",
    "foods=('pizza','fries','cheeseburgers','fries','chicken','potatoes','fries','fries')\n",
    "myfunc(foods)"
   ]
  },
  {
   "cell_type": "code",
   "execution_count": null,
   "metadata": {},
   "outputs": [],
   "source": []
  }
 ],
 "metadata": {
  "kernelspec": {
   "display_name": "Python 3",
   "language": "python",
   "name": "python3"
  },
  "language_info": {
   "codemirror_mode": {
    "name": "ipython",
    "version": 3
   },
   "file_extension": ".py",
   "mimetype": "text/x-python",
   "name": "python",
   "nbconvert_exporter": "python",
   "pygments_lexer": "ipython3",
   "version": "3.6.6"
  }
 },
 "nbformat": 4,
 "nbformat_minor": 2
}
