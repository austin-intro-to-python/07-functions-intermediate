{
 "cells": [
  {
   "cell_type": "markdown",
   "metadata": {},
   "source": [
    "# 7. Functions with sets and booleans"
   ]
  },
  {
   "cell_type": "code",
   "execution_count": 8,
   "metadata": {},
   "outputs": [
    {
     "data": {
      "text/plain": [
       "4"
      ]
     },
     "execution_count": 8,
     "metadata": {},
     "output_type": "execute_result"
    }
   ],
   "source": [
    "# Write a function that counts the number of unique items in any list.\n",
    "\n",
    "def myfunc(mylist):\n",
    "    return(len(set(mylist)))\n",
    "\n",
    "thislist=['blue','blue','green',2.7,True,'blue','green','blue',True]\n",
    "myfunc(thislist)"
   ]
  },
  {
   "cell_type": "code",
   "execution_count": 9,
   "metadata": {},
   "outputs": [
    {
     "name": "stdout",
     "output_type": "stream",
     "text": [
      "{True, 2.7, 'fries', 'blue', 'green'}\n"
     ]
    },
    {
     "data": {
      "text/plain": [
       "5"
      ]
     },
     "execution_count": 9,
     "metadata": {},
     "output_type": "execute_result"
    }
   ],
   "source": [
    "# Write a function receives any list, converts it to a set, adds the word \"fries\" to that set, \n",
    "# prints the updated set, and saves its length. Define a new variable using this function.\n",
    "\n",
    "def myfunc(mylist):\n",
    "    x=set(mylist)\n",
    "    x.add('fries')\n",
    "    print (x)\n",
    "    return len(x)\n",
    "\n",
    "\n",
    "thislist=['blue','blue','green',2.7,True,'blue','green','blue',True]\n",
    "newvar=myfunc(thislist)\n",
    "newvar"
   ]
  },
  {
   "cell_type": "code",
   "execution_count": 16,
   "metadata": {},
   "outputs": [
    {
     "data": {
      "text/plain": [
       "True"
      ]
     },
     "execution_count": 16,
     "metadata": {},
     "output_type": "execute_result"
    }
   ],
   "source": [
    "# Write a function that receives any 3 numbers and evaluates whether their sum is greater than 20.\n",
    "\n",
    "def myfunc(a,b,c):\n",
    "    return a+b+c>20\n",
    "\n",
    "myfunc(12,4,5)"
   ]
  },
  {
   "cell_type": "code",
   "execution_count": 15,
   "metadata": {},
   "outputs": [
    {
     "data": {
      "text/plain": [
       "False"
      ]
     },
     "execution_count": 15,
     "metadata": {},
     "output_type": "execute_result"
    }
   ],
   "source": [
    "# Write a function that multiplies any 2 numbers and evaluates whether the answer is even.\n",
    "\n",
    "def myfunc(a,b):\n",
    "    return (a*b) % 2 == 0\n",
    "\n",
    "myfunc(3,5)"
   ]
  },
  {
   "cell_type": "code",
   "execution_count": 2,
   "metadata": {},
   "outputs": [
    {
     "data": {
      "text/plain": [
       "False"
      ]
     },
     "execution_count": 2,
     "metadata": {},
     "output_type": "execute_result"
    }
   ],
   "source": [
    "# Write a function that receives 3 numbers and evaluates if they are provided in ascending order.\n",
    "\n",
    "def myfunc(a,b,c):\n",
    "    return a < b < c\n",
    "\n",
    "myfunc(12,5,9)"
   ]
  },
  {
   "cell_type": "code",
   "execution_count": 4,
   "metadata": {},
   "outputs": [
    {
     "data": {
      "text/plain": [
       "False"
      ]
     },
     "execution_count": 4,
     "metadata": {},
     "output_type": "execute_result"
    }
   ],
   "source": [
    "# Write a function that receives 3 numbers and evaluates if they are all unique.\n",
    "\n",
    "def myfunc(a,b,c):\n",
    "    return a!=b and b!=c and a!=c \n",
    "\n",
    "myfunc(3,3,4)"
   ]
  },
  {
   "cell_type": "code",
   "execution_count": 7,
   "metadata": {},
   "outputs": [
    {
     "data": {
      "text/plain": [
       "True"
      ]
     },
     "execution_count": 7,
     "metadata": {},
     "output_type": "execute_result"
    }
   ],
   "source": [
    "# Write a function that receives a number and evaluates whether it is either less than -10 or greater than 10.\n",
    "\n",
    "def myfunc(a):\n",
    "    return (a < -10) or (a>10)\n",
    "\n",
    "myfunc(-13)"
   ]
  },
  {
   "cell_type": "code",
   "execution_count": null,
   "metadata": {},
   "outputs": [],
   "source": []
  }
 ],
 "metadata": {
  "kernelspec": {
   "display_name": "Python 3",
   "language": "python",
   "name": "python3"
  },
  "language_info": {
   "codemirror_mode": {
    "name": "ipython",
    "version": 3
   },
   "file_extension": ".py",
   "mimetype": "text/x-python",
   "name": "python",
   "nbconvert_exporter": "python",
   "pygments_lexer": "ipython3",
   "version": "3.6.6"
  }
 },
 "nbformat": 4,
 "nbformat_minor": 2
}
